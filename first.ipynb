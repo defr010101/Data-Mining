{
 "cells": [
  {
   "cell_type": "markdown",
   "metadata": {
    "id": "GGl8FnDAMnBx"
   },
   "source": [
    "## О Jupyter notebook"
   ]
  },
  {
   "cell_type": "markdown",
   "metadata": {
    "collapsed": true,
    "id": "j1-IVL-AMnBz"
   },
   "source": [
    "Jupyter Notebook — это среда разработки, где сразу можно видеть результат выполнения кода и его отдельных фрагментов. Отличие от традиционной среды разработки в том, что код можно разбить на куски и выполнять их в произвольном порядке.\n",
    "Для запуска кода в ячейке можно воспользоваться меню сверху или нажать клавиши \"Enter+Shift\".\n",
    "\n",
    "Основная область применения ноутбуков — машинное обучение, нейросети, визуализация данных и статистика.\n",
    "\n",
    "Ещё такую среду часто используют для поэтапной разработки, когда нужно по шагам проверять работу разных фрагментов кода. Дело в том, что код в ноутбуках хранится в независимых ячейках и его можно запускать в любом порядке или поодиночке. Это позволяет быстро экспериментировать с алгоритмами и находить оптимальное решение.\n",
    "\n",
    "Также jupyter-ноутбуки используются при обучении программированию на Python, чтобы писать код и сразу видеть результат его работы.\n",
    "\n",
    "Есть два основных типа ячеек, которые мы рассмотрим:\n",
    "\n",
    "- Ячейка кода содержит код, который должен быть выполнен в ядре, и отображает его вывод ниже.\n",
    "- Ячейка Markdown содержит текст, отформатированный с использованием Markdown, и отображает его вывод на месте при запуске."
   ]
  },
  {
   "cell_type": "code",
   "execution_count": 1,
   "metadata": {
    "id": "dg38koziMnB2"
   },
   "outputs": [
    {
     "data": {
      "text/plain": [
       "4"
      ]
     },
     "execution_count": 1,
     "metadata": {},
     "output_type": "execute_result"
    }
   ],
   "source": [
    "# ячейка с кодом, при выполнении которой появится output\n",
    "2 + 2"
   ]
  },
  {
   "cell_type": "markdown",
   "metadata": {
    "id": "ewPedHhMMnB5"
   },
   "source": [
    "А это ___ячейка с текстом___."
   ]
  },
  {
   "cell_type": "raw",
   "metadata": {
    "id": "cbjFS33CMnB6"
   },
   "source": [
    "Ячейка с неразмеченыным текстом."
   ]
  },
  {
   "cell_type": "markdown",
   "metadata": {
    "id": "bXwaagCYMnB7"
   },
   "source": [
    "Попробуйте создать свои ячейки, написать какой-нибудь код и текст какой-нибудь формулой."
   ]
  },
  {
   "cell_type": "code",
   "execution_count": null,
   "metadata": {
    "id": "-3hISC2WMnB-"
   },
   "outputs": [],
   "source": [
    "# your code"
   ]
  },
  {
   "cell_type": "markdown",
   "metadata": {
    "id": "LPsW5zNCMnCA"
   },
   "source": [
    "[Здесь](https://athena.brynmawr.edu/jupyter/hub/dblank/public/Jupyter%20Notebook%20Users%20Manual.ipynb) находится <s>не</s>большая заметка о используемом языке разметки Markdown. Он позволяет:\n",
    "\n",
    "0. Составлять упорядоченные списки\n",
    "1. #Делать \n",
    "##заголовки \n",
    "###разного уровня\n",
    "3. Выделять *текст* <s>при</s> **необходимости**\n",
    "4. Добавлять [ссылки](http://imgs.xkcd.com/comics/the_universal_label.png)\n",
    "\n",
    "\n",
    "* Составлять неупорядоченные списки\n",
    "\n",
    "Делать вставки с помощью LaTex:\n",
    "    \n",
    "$\n",
    "\\left\\{\n",
    "\\begin{array}{ll}\n",
    "x = 16 \\sin^3 (t) \\\\ \n",
    "y = 13 \\cos (t) - 5 \\cos (2t) - 2 \\cos (3t) - \\cos (4t) \\\\\n",
    "t \\in [0, 2 \\pi]\n",
    "\\end{array}\n",
    "\\right.$"
   ]
  },
  {
   "cell_type": "markdown",
   "metadata": {
    "id": "Gn_QfHOtMnCC"
   },
   "source": [
    "## 1. Табличные данные и Pandas"
   ]
  },
  {
   "cell_type": "markdown",
   "metadata": {
    "id": "_bluY_-FMnCD"
   },
   "source": [
    "Pandas — это библиотека для работы с данными на Python. Она упрощает жизнь аналитикам: где раньше использовалось 10 строк кода теперь хватит одной.\n",
    "\n",
    "Например, чтобы прочитать данные из csv, в стандартном Python надо сначала решить, как хранить данные, затем открыть файл, прочитать его построчно, отделить значения друг от друга и очистить данные от специальных символов.\n",
    "\n",
    "В Pandas всё проще. Во-первых, не нужно думать, как будут храниться данные — они лежат в датафрейме. Во-вторых, достаточно написать одну команду:\n",
    "\n",
    " data = pd.read_csv('file.csv')\n",
    "\n",
    "Pandas добавляет в Python новые структуры данных — серии и датафреймы. \n",
    "\n",
    "Серии — одномерные массивы данных. Они очень похожи на списки, но отличаются по поведению — например, операции применяются к списку целиком, а в сериях — поэлементно.\n",
    "Еще одно отличие серий от списков — в качестве индексов можно использовать произвольные значения, это делает данные нагляднее.\n",
    "Датафрейм — это проиндексированный многомерный массив значений, соответственно каждый столбец датафрейма, является серией."
   ]
  },
  {
   "cell_type": "code",
   "execution_count": 2,
   "metadata": {
    "colab": {
     "base_uri": "https://localhost:8080/"
    },
    "id": "sIFYH52VMnCF",
    "outputId": "577fbd01-0036-413c-bc19-5a5e4e738f34"
   },
   "outputs": [
    {
     "name": "stdout",
     "output_type": "stream",
     "text": [
      "%pylab is deprecated, use %matplotlib inline and import the required libraries.\n",
      "Populating the interactive namespace from numpy and matplotlib\n"
     ]
    }
   ],
   "source": [
    "%pylab inline  \n",
    "# import almost all we need\n",
    "import pandas as pd\n",
    "import numpy as np\n",
    "pd.set_option('display.max_columns', None)"
   ]
  },
  {
   "cell_type": "markdown",
   "metadata": {
    "id": "WyJddRs_MnCH"
   },
   "source": [
    "#### 1. Прочитайте файл с таблицей, выведите последние 10 строк.\n",
    "\n"
   ]
  },
  {
   "cell_type": "code",
   "execution_count": 3,
   "metadata": {
    "colab": {
     "base_uri": "https://localhost:8080/",
     "height": 363
    },
    "id": "A3CgGRwCMnCJ",
    "outputId": "259f61f5-c959-4a83-8d24-27eceaad6a80"
   },
   "outputs": [
    {
     "data": {
      "text/html": [
       "<div>\n",
       "<style scoped>\n",
       "    .dataframe tbody tr th:only-of-type {\n",
       "        vertical-align: middle;\n",
       "    }\n",
       "\n",
       "    .dataframe tbody tr th {\n",
       "        vertical-align: top;\n",
       "    }\n",
       "\n",
       "    .dataframe thead th {\n",
       "        text-align: right;\n",
       "    }\n",
       "</style>\n",
       "<table border=\"1\" class=\"dataframe\">\n",
       "  <thead>\n",
       "    <tr style=\"text-align: right;\">\n",
       "      <th></th>\n",
       "      <th>event_time</th>\n",
       "      <th>order_id</th>\n",
       "      <th>product_id</th>\n",
       "      <th>category_id</th>\n",
       "      <th>category_code</th>\n",
       "      <th>brand</th>\n",
       "      <th>price</th>\n",
       "      <th>user_id</th>\n",
       "    </tr>\n",
       "  </thead>\n",
       "  <tbody>\n",
       "    <tr>\n",
       "      <th>1048565</th>\n",
       "      <td>2020-05-12 08:52:26 UTC</td>\n",
       "      <td>2353219985976853015</td>\n",
       "      <td>1515966223510203952</td>\n",
       "      <td>2.268105e+18</td>\n",
       "      <td>NaN</td>\n",
       "      <td>barjher</td>\n",
       "      <td>4.84</td>\n",
       "      <td>NaN</td>\n",
       "    </tr>\n",
       "    <tr>\n",
       "      <th>1048566</th>\n",
       "      <td>2020-05-12 08:52:26 UTC</td>\n",
       "      <td>2353219985976853015</td>\n",
       "      <td>1515966223509261671</td>\n",
       "      <td>2.268105e+18</td>\n",
       "      <td>NaN</td>\n",
       "      <td>akvafor</td>\n",
       "      <td>11.55</td>\n",
       "      <td>NaN</td>\n",
       "    </tr>\n",
       "    <tr>\n",
       "      <th>1048567</th>\n",
       "      <td>2020-05-12 08:27:14 UTC</td>\n",
       "      <td>2353219986094293528</td>\n",
       "      <td>1515966223509088665</td>\n",
       "      <td>2.268105e+18</td>\n",
       "      <td>appliances.environment.water_heater</td>\n",
       "      <td>midea</td>\n",
       "      <td>85.63</td>\n",
       "      <td>NaN</td>\n",
       "    </tr>\n",
       "    <tr>\n",
       "      <th>1048568</th>\n",
       "      <td>2020-05-12 08:26:29 UTC</td>\n",
       "      <td>2353219986194956825</td>\n",
       "      <td>2273948299738218955</td>\n",
       "      <td>2.268105e+18</td>\n",
       "      <td>appliances.environment.fan</td>\n",
       "      <td>ava</td>\n",
       "      <td>13.87</td>\n",
       "      <td>NaN</td>\n",
       "    </tr>\n",
       "    <tr>\n",
       "      <th>1048569</th>\n",
       "      <td>2020-05-12 07:16:25 UTC</td>\n",
       "      <td>2353219986312397338</td>\n",
       "      <td>1515966223509105119</td>\n",
       "      <td>2.268105e+18</td>\n",
       "      <td>computers.peripherals.printer</td>\n",
       "      <td>hp</td>\n",
       "      <td>164.10</td>\n",
       "      <td>NaN</td>\n",
       "    </tr>\n",
       "    <tr>\n",
       "      <th>1048570</th>\n",
       "      <td>2020-05-12 07:16:25 UTC</td>\n",
       "      <td>2353219986312397338</td>\n",
       "      <td>1515966223523303302</td>\n",
       "      <td>NaN</td>\n",
       "      <td>57.87</td>\n",
       "      <td>NaN</td>\n",
       "      <td>NaN</td>\n",
       "      <td>NaN</td>\n",
       "    </tr>\n",
       "    <tr>\n",
       "      <th>1048571</th>\n",
       "      <td>2020-05-12 07:08:37 UTC</td>\n",
       "      <td>2353219986429837851</td>\n",
       "      <td>1515966223509090006</td>\n",
       "      <td>2.268105e+18</td>\n",
       "      <td>electronics.smartphone</td>\n",
       "      <td>oppo</td>\n",
       "      <td>231.23</td>\n",
       "      <td>NaN</td>\n",
       "    </tr>\n",
       "    <tr>\n",
       "      <th>1048572</th>\n",
       "      <td>2020-05-12 09:11:47 UTC</td>\n",
       "      <td>2353219986530501148</td>\n",
       "      <td>2273948222294589749</td>\n",
       "      <td>2.268105e+18</td>\n",
       "      <td>appliances.kitchen.refrigerators</td>\n",
       "      <td>samsung</td>\n",
       "      <td>520.81</td>\n",
       "      <td>NaN</td>\n",
       "    </tr>\n",
       "    <tr>\n",
       "      <th>1048573</th>\n",
       "      <td>2020-05-12 06:43:09 UTC</td>\n",
       "      <td>2353219986656330269</td>\n",
       "      <td>1515966223509298712</td>\n",
       "      <td>2.268105e+18</td>\n",
       "      <td>NaN</td>\n",
       "      <td>rowenta</td>\n",
       "      <td>55.53</td>\n",
       "      <td>NaN</td>\n",
       "    </tr>\n",
       "    <tr>\n",
       "      <th>1048574</th>\n",
       "      <td>2020-05-12 06:43:09 UTC</td>\n",
       "      <td>2353219986656330269</td>\n",
       "      <td>1515966223510402007</td>\n",
       "      <td>2.268105e+18</td>\n",
       "      <td>NaN</td>\n",
       "      <td>provence</td>\n",
       "      <td>3.91</td>\n",
       "      <td>NaN</td>\n",
       "    </tr>\n",
       "  </tbody>\n",
       "</table>\n",
       "</div>"
      ],
      "text/plain": [
       "                      event_time             order_id           product_id  \\\n",
       "1048565  2020-05-12 08:52:26 UTC  2353219985976853015  1515966223510203952   \n",
       "1048566  2020-05-12 08:52:26 UTC  2353219985976853015  1515966223509261671   \n",
       "1048567  2020-05-12 08:27:14 UTC  2353219986094293528  1515966223509088665   \n",
       "1048568  2020-05-12 08:26:29 UTC  2353219986194956825  2273948299738218955   \n",
       "1048569  2020-05-12 07:16:25 UTC  2353219986312397338  1515966223509105119   \n",
       "1048570  2020-05-12 07:16:25 UTC  2353219986312397338  1515966223523303302   \n",
       "1048571  2020-05-12 07:08:37 UTC  2353219986429837851  1515966223509090006   \n",
       "1048572  2020-05-12 09:11:47 UTC  2353219986530501148  2273948222294589749   \n",
       "1048573  2020-05-12 06:43:09 UTC  2353219986656330269  1515966223509298712   \n",
       "1048574  2020-05-12 06:43:09 UTC  2353219986656330269  1515966223510402007   \n",
       "\n",
       "          category_id                        category_code     brand   price  \\\n",
       "1048565  2.268105e+18                                  NaN   barjher    4.84   \n",
       "1048566  2.268105e+18                                  NaN   akvafor   11.55   \n",
       "1048567  2.268105e+18  appliances.environment.water_heater     midea   85.63   \n",
       "1048568  2.268105e+18           appliances.environment.fan       ava   13.87   \n",
       "1048569  2.268105e+18        computers.peripherals.printer        hp  164.10   \n",
       "1048570           NaN                                57.87       NaN     NaN   \n",
       "1048571  2.268105e+18               electronics.smartphone      oppo  231.23   \n",
       "1048572  2.268105e+18     appliances.kitchen.refrigerators   samsung  520.81   \n",
       "1048573  2.268105e+18                                  NaN   rowenta   55.53   \n",
       "1048574  2.268105e+18                                  NaN  provence    3.91   \n",
       "\n",
       "         user_id  \n",
       "1048565      NaN  \n",
       "1048566      NaN  \n",
       "1048567      NaN  \n",
       "1048568      NaN  \n",
       "1048569      NaN  \n",
       "1048570      NaN  \n",
       "1048571      NaN  \n",
       "1048572      NaN  \n",
       "1048573      NaN  \n",
       "1048574      NaN  "
      ]
     },
     "execution_count": 3,
     "metadata": {},
     "output_type": "execute_result"
    }
   ],
   "source": [
    "data = pd.read_csv('data_for_lab_1.csv')\n",
    "data.shape\n",
    "data[-10:]"
   ]
  },
  {
   "cell_type": "markdown",
   "metadata": {
    "id": "GhLYdqiiMnCK"
   },
   "source": [
    "#### 2.  Выведите следующую информацию:\n",
    "1. Сколько всего заказов в исходной выборке данных?\n",
    "2. Количество уникальных категорий товара (category_code)"
   ]
  },
  {
   "cell_type": "code",
   "execution_count": 6,
   "metadata": {
    "colab": {
     "base_uri": "https://localhost:8080/"
    },
    "id": "IyX8HpXzMnCK",
    "outputId": "e46e8b3c-0f2c-4404-8928-0c61f6bb5e41"
   },
   "outputs": [
    {
     "name": "stdout",
     "output_type": "stream",
     "text": [
      "1048575 390\n"
     ]
    }
   ],
   "source": [
    "x = len(data)\n",
    "y = len(data.category_code.unique())\n",
    "print(x, y)"
   ]
  },
  {
   "cell_type": "markdown",
   "metadata": {
    "id": "O_21qBpkMnCO"
   },
   "source": [
    "#### 3. Найдите столбцы с пустыми значениями, заполните строковые значения пустой строкой, числовые - 0."
   ]
  },
  {
   "cell_type": "code",
   "execution_count": 4,
   "metadata": {
    "colab": {
     "base_uri": "https://localhost:8080/",
     "height": 363
    },
    "id": "MolPR0gOMnCP",
    "outputId": "74db1b6c-dde9-4b91-ff3b-83f93d327476"
   },
   "outputs": [
    {
     "data": {
      "text/html": [
       "<div>\n",
       "<style scoped>\n",
       "    .dataframe tbody tr th:only-of-type {\n",
       "        vertical-align: middle;\n",
       "    }\n",
       "\n",
       "    .dataframe tbody tr th {\n",
       "        vertical-align: top;\n",
       "    }\n",
       "\n",
       "    .dataframe thead th {\n",
       "        text-align: right;\n",
       "    }\n",
       "</style>\n",
       "<table border=\"1\" class=\"dataframe\">\n",
       "  <thead>\n",
       "    <tr style=\"text-align: right;\">\n",
       "      <th></th>\n",
       "      <th>event_time</th>\n",
       "      <th>order_id</th>\n",
       "      <th>product_id</th>\n",
       "      <th>category_id</th>\n",
       "      <th>category_code</th>\n",
       "      <th>brand</th>\n",
       "      <th>price</th>\n",
       "      <th>user_id</th>\n",
       "    </tr>\n",
       "  </thead>\n",
       "  <tbody>\n",
       "    <tr>\n",
       "      <th>1048565</th>\n",
       "      <td>2020-05-12 08:52:26 UTC</td>\n",
       "      <td>2353219985976853015</td>\n",
       "      <td>1515966223510203952</td>\n",
       "      <td>2.268105e+18</td>\n",
       "      <td></td>\n",
       "      <td>barjher</td>\n",
       "      <td>4.84</td>\n",
       "      <td>0.0</td>\n",
       "    </tr>\n",
       "    <tr>\n",
       "      <th>1048566</th>\n",
       "      <td>2020-05-12 08:52:26 UTC</td>\n",
       "      <td>2353219985976853015</td>\n",
       "      <td>1515966223509261671</td>\n",
       "      <td>2.268105e+18</td>\n",
       "      <td></td>\n",
       "      <td>akvafor</td>\n",
       "      <td>11.55</td>\n",
       "      <td>0.0</td>\n",
       "    </tr>\n",
       "    <tr>\n",
       "      <th>1048567</th>\n",
       "      <td>2020-05-12 08:27:14 UTC</td>\n",
       "      <td>2353219986094293528</td>\n",
       "      <td>1515966223509088665</td>\n",
       "      <td>2.268105e+18</td>\n",
       "      <td>appliances.environment.water_heater</td>\n",
       "      <td>midea</td>\n",
       "      <td>85.63</td>\n",
       "      <td>0.0</td>\n",
       "    </tr>\n",
       "    <tr>\n",
       "      <th>1048568</th>\n",
       "      <td>2020-05-12 08:26:29 UTC</td>\n",
       "      <td>2353219986194956825</td>\n",
       "      <td>2273948299738218955</td>\n",
       "      <td>2.268105e+18</td>\n",
       "      <td>appliances.environment.fan</td>\n",
       "      <td>ava</td>\n",
       "      <td>13.87</td>\n",
       "      <td>0.0</td>\n",
       "    </tr>\n",
       "    <tr>\n",
       "      <th>1048569</th>\n",
       "      <td>2020-05-12 07:16:25 UTC</td>\n",
       "      <td>2353219986312397338</td>\n",
       "      <td>1515966223509105119</td>\n",
       "      <td>2.268105e+18</td>\n",
       "      <td>computers.peripherals.printer</td>\n",
       "      <td>hp</td>\n",
       "      <td>164.10</td>\n",
       "      <td>0.0</td>\n",
       "    </tr>\n",
       "    <tr>\n",
       "      <th>1048570</th>\n",
       "      <td>2020-05-12 07:16:25 UTC</td>\n",
       "      <td>2353219986312397338</td>\n",
       "      <td>1515966223523303302</td>\n",
       "      <td>0.000000e+00</td>\n",
       "      <td>57.87</td>\n",
       "      <td>none</td>\n",
       "      <td>0.00</td>\n",
       "      <td>0.0</td>\n",
       "    </tr>\n",
       "    <tr>\n",
       "      <th>1048571</th>\n",
       "      <td>2020-05-12 07:08:37 UTC</td>\n",
       "      <td>2353219986429837851</td>\n",
       "      <td>1515966223509090006</td>\n",
       "      <td>2.268105e+18</td>\n",
       "      <td>electronics.smartphone</td>\n",
       "      <td>oppo</td>\n",
       "      <td>231.23</td>\n",
       "      <td>0.0</td>\n",
       "    </tr>\n",
       "    <tr>\n",
       "      <th>1048572</th>\n",
       "      <td>2020-05-12 09:11:47 UTC</td>\n",
       "      <td>2353219986530501148</td>\n",
       "      <td>2273948222294589749</td>\n",
       "      <td>2.268105e+18</td>\n",
       "      <td>appliances.kitchen.refrigerators</td>\n",
       "      <td>samsung</td>\n",
       "      <td>520.81</td>\n",
       "      <td>0.0</td>\n",
       "    </tr>\n",
       "    <tr>\n",
       "      <th>1048573</th>\n",
       "      <td>2020-05-12 06:43:09 UTC</td>\n",
       "      <td>2353219986656330269</td>\n",
       "      <td>1515966223509298712</td>\n",
       "      <td>2.268105e+18</td>\n",
       "      <td></td>\n",
       "      <td>rowenta</td>\n",
       "      <td>55.53</td>\n",
       "      <td>0.0</td>\n",
       "    </tr>\n",
       "    <tr>\n",
       "      <th>1048574</th>\n",
       "      <td>2020-05-12 06:43:09 UTC</td>\n",
       "      <td>2353219986656330269</td>\n",
       "      <td>1515966223510402007</td>\n",
       "      <td>2.268105e+18</td>\n",
       "      <td></td>\n",
       "      <td>provence</td>\n",
       "      <td>3.91</td>\n",
       "      <td>0.0</td>\n",
       "    </tr>\n",
       "  </tbody>\n",
       "</table>\n",
       "</div>"
      ],
      "text/plain": [
       "                      event_time             order_id           product_id  \\\n",
       "1048565  2020-05-12 08:52:26 UTC  2353219985976853015  1515966223510203952   \n",
       "1048566  2020-05-12 08:52:26 UTC  2353219985976853015  1515966223509261671   \n",
       "1048567  2020-05-12 08:27:14 UTC  2353219986094293528  1515966223509088665   \n",
       "1048568  2020-05-12 08:26:29 UTC  2353219986194956825  2273948299738218955   \n",
       "1048569  2020-05-12 07:16:25 UTC  2353219986312397338  1515966223509105119   \n",
       "1048570  2020-05-12 07:16:25 UTC  2353219986312397338  1515966223523303302   \n",
       "1048571  2020-05-12 07:08:37 UTC  2353219986429837851  1515966223509090006   \n",
       "1048572  2020-05-12 09:11:47 UTC  2353219986530501148  2273948222294589749   \n",
       "1048573  2020-05-12 06:43:09 UTC  2353219986656330269  1515966223509298712   \n",
       "1048574  2020-05-12 06:43:09 UTC  2353219986656330269  1515966223510402007   \n",
       "\n",
       "          category_id                        category_code     brand   price  \\\n",
       "1048565  2.268105e+18                                        barjher    4.84   \n",
       "1048566  2.268105e+18                                        akvafor   11.55   \n",
       "1048567  2.268105e+18  appliances.environment.water_heater     midea   85.63   \n",
       "1048568  2.268105e+18           appliances.environment.fan       ava   13.87   \n",
       "1048569  2.268105e+18        computers.peripherals.printer        hp  164.10   \n",
       "1048570  0.000000e+00                                57.87      none    0.00   \n",
       "1048571  2.268105e+18               electronics.smartphone      oppo  231.23   \n",
       "1048572  2.268105e+18     appliances.kitchen.refrigerators   samsung  520.81   \n",
       "1048573  2.268105e+18                                        rowenta   55.53   \n",
       "1048574  2.268105e+18                                       provence    3.91   \n",
       "\n",
       "         user_id  \n",
       "1048565      0.0  \n",
       "1048566      0.0  \n",
       "1048567      0.0  \n",
       "1048568      0.0  \n",
       "1048569      0.0  \n",
       "1048570      0.0  \n",
       "1048571      0.0  \n",
       "1048572      0.0  \n",
       "1048573      0.0  \n",
       "1048574      0.0  "
      ]
     },
     "execution_count": 4,
     "metadata": {},
     "output_type": "execute_result"
    }
   ],
   "source": [
    "data[\"order_id\"] = data[\"order_id\"].fillna(0)\n",
    "data[\"product_id\"] = data[\"product_id\"].fillna(0)\n",
    "data[\"category_id\"] = data[\"category_id\"].fillna(0)\n",
    "data[\"category_code\"] = data[\"category_code\"].fillna('')\n",
    "data[\"brand\"] = data[\"brand\"].fillna('none')\n",
    "data[\"price\"] = data[\"price\"].fillna(0)\n",
    "data[\"user_id\"] = data[\"user_id\"].fillna(0)\n",
    "df = data.copy()\n",
    "data[-10:]"
   ]
  },
  {
   "cell_type": "markdown",
   "metadata": {
    "id": "oKxYKgLXMnCQ"
   },
   "source": [
    "#### 4.  Обратите внимание на колонку, содержащую цену товара. Создайте новую колонку, таким образом, чтобы цена стала числом.\n",
    "\n",
    "Для этого необходимо применить функцию-преобразование к каждой строке таблицы (для этого есть соответствующая функция)."
   ]
  },
  {
   "cell_type": "markdown",
   "metadata": {
    "id": "N15ZV7VvMnCS"
   },
   "source": [
    "Выведите среднюю/минимальную/максимальную цену у товара."
   ]
  },
  {
   "cell_type": "code",
   "execution_count": 5,
   "metadata": {
    "colab": {
     "base_uri": "https://localhost:8080/"
    },
    "id": "SSbJ8e9KMnCS",
    "outputId": "c44c062e-ed19-46ee-ecf0-1eea5d4f64a7"
   },
   "outputs": [
    {
     "name": "stdout",
     "output_type": "stream",
     "text": [
      "Mean price:  1783056754654.6453\n",
      "Min price:  0.02\n",
      "Max price:  1.515915625443148e+18\n"
     ]
    }
   ],
   "source": [
    "# Удалить нули\n",
    "data[\"price\"] = data[\"price\"].replace(0, np.NaN)\n",
    "\n",
    "# Вывод\n",
    "print(\"Mean price: \", data[\"price\"].mean())\n",
    "print(\"Min price: \", data[\"price\"].min())\n",
    "print(\"Max price: \", data[\"price\"].max())\n",
    "\n",
    "# Вернуть нули обратно\n",
    "data[\"price\"] = data[\"price\"].replace(np.NaN, 0)"
   ]
  },
  {
   "cell_type": "markdown",
   "metadata": {
    "id": "PlIxsFbHMnCT"
   },
   "source": [
    "Удалите старую колонку с ценой."
   ]
  },
  {
   "cell_type": "code",
   "execution_count": 6,
   "metadata": {
    "colab": {
     "base_uri": "https://localhost:8080/",
     "height": 363
    },
    "id": "zdrwfcbXMnCT",
    "outputId": "8e70b332-b688-428e-aa58-ffc7b83d570e"
   },
   "outputs": [
    {
     "data": {
      "text/html": [
       "<div>\n",
       "<style scoped>\n",
       "    .dataframe tbody tr th:only-of-type {\n",
       "        vertical-align: middle;\n",
       "    }\n",
       "\n",
       "    .dataframe tbody tr th {\n",
       "        vertical-align: top;\n",
       "    }\n",
       "\n",
       "    .dataframe thead th {\n",
       "        text-align: right;\n",
       "    }\n",
       "</style>\n",
       "<table border=\"1\" class=\"dataframe\">\n",
       "  <thead>\n",
       "    <tr style=\"text-align: right;\">\n",
       "      <th></th>\n",
       "      <th>event_time</th>\n",
       "      <th>order_id</th>\n",
       "      <th>product_id</th>\n",
       "      <th>category_id</th>\n",
       "      <th>category_code</th>\n",
       "      <th>brand</th>\n",
       "      <th>user_id</th>\n",
       "    </tr>\n",
       "  </thead>\n",
       "  <tbody>\n",
       "    <tr>\n",
       "      <th>1048565</th>\n",
       "      <td>2020-05-12 08:52:26 UTC</td>\n",
       "      <td>2353219985976853015</td>\n",
       "      <td>1515966223510203952</td>\n",
       "      <td>2.268105e+18</td>\n",
       "      <td></td>\n",
       "      <td>barjher</td>\n",
       "      <td>0.0</td>\n",
       "    </tr>\n",
       "    <tr>\n",
       "      <th>1048566</th>\n",
       "      <td>2020-05-12 08:52:26 UTC</td>\n",
       "      <td>2353219985976853015</td>\n",
       "      <td>1515966223509261671</td>\n",
       "      <td>2.268105e+18</td>\n",
       "      <td></td>\n",
       "      <td>akvafor</td>\n",
       "      <td>0.0</td>\n",
       "    </tr>\n",
       "    <tr>\n",
       "      <th>1048567</th>\n",
       "      <td>2020-05-12 08:27:14 UTC</td>\n",
       "      <td>2353219986094293528</td>\n",
       "      <td>1515966223509088665</td>\n",
       "      <td>2.268105e+18</td>\n",
       "      <td>appliances.environment.water_heater</td>\n",
       "      <td>midea</td>\n",
       "      <td>0.0</td>\n",
       "    </tr>\n",
       "    <tr>\n",
       "      <th>1048568</th>\n",
       "      <td>2020-05-12 08:26:29 UTC</td>\n",
       "      <td>2353219986194956825</td>\n",
       "      <td>2273948299738218955</td>\n",
       "      <td>2.268105e+18</td>\n",
       "      <td>appliances.environment.fan</td>\n",
       "      <td>ava</td>\n",
       "      <td>0.0</td>\n",
       "    </tr>\n",
       "    <tr>\n",
       "      <th>1048569</th>\n",
       "      <td>2020-05-12 07:16:25 UTC</td>\n",
       "      <td>2353219986312397338</td>\n",
       "      <td>1515966223509105119</td>\n",
       "      <td>2.268105e+18</td>\n",
       "      <td>computers.peripherals.printer</td>\n",
       "      <td>hp</td>\n",
       "      <td>0.0</td>\n",
       "    </tr>\n",
       "    <tr>\n",
       "      <th>1048570</th>\n",
       "      <td>2020-05-12 07:16:25 UTC</td>\n",
       "      <td>2353219986312397338</td>\n",
       "      <td>1515966223523303302</td>\n",
       "      <td>0.000000e+00</td>\n",
       "      <td>57.87</td>\n",
       "      <td>none</td>\n",
       "      <td>0.0</td>\n",
       "    </tr>\n",
       "    <tr>\n",
       "      <th>1048571</th>\n",
       "      <td>2020-05-12 07:08:37 UTC</td>\n",
       "      <td>2353219986429837851</td>\n",
       "      <td>1515966223509090006</td>\n",
       "      <td>2.268105e+18</td>\n",
       "      <td>electronics.smartphone</td>\n",
       "      <td>oppo</td>\n",
       "      <td>0.0</td>\n",
       "    </tr>\n",
       "    <tr>\n",
       "      <th>1048572</th>\n",
       "      <td>2020-05-12 09:11:47 UTC</td>\n",
       "      <td>2353219986530501148</td>\n",
       "      <td>2273948222294589749</td>\n",
       "      <td>2.268105e+18</td>\n",
       "      <td>appliances.kitchen.refrigerators</td>\n",
       "      <td>samsung</td>\n",
       "      <td>0.0</td>\n",
       "    </tr>\n",
       "    <tr>\n",
       "      <th>1048573</th>\n",
       "      <td>2020-05-12 06:43:09 UTC</td>\n",
       "      <td>2353219986656330269</td>\n",
       "      <td>1515966223509298712</td>\n",
       "      <td>2.268105e+18</td>\n",
       "      <td></td>\n",
       "      <td>rowenta</td>\n",
       "      <td>0.0</td>\n",
       "    </tr>\n",
       "    <tr>\n",
       "      <th>1048574</th>\n",
       "      <td>2020-05-12 06:43:09 UTC</td>\n",
       "      <td>2353219986656330269</td>\n",
       "      <td>1515966223510402007</td>\n",
       "      <td>2.268105e+18</td>\n",
       "      <td></td>\n",
       "      <td>provence</td>\n",
       "      <td>0.0</td>\n",
       "    </tr>\n",
       "  </tbody>\n",
       "</table>\n",
       "</div>"
      ],
      "text/plain": [
       "                      event_time             order_id           product_id  \\\n",
       "1048565  2020-05-12 08:52:26 UTC  2353219985976853015  1515966223510203952   \n",
       "1048566  2020-05-12 08:52:26 UTC  2353219985976853015  1515966223509261671   \n",
       "1048567  2020-05-12 08:27:14 UTC  2353219986094293528  1515966223509088665   \n",
       "1048568  2020-05-12 08:26:29 UTC  2353219986194956825  2273948299738218955   \n",
       "1048569  2020-05-12 07:16:25 UTC  2353219986312397338  1515966223509105119   \n",
       "1048570  2020-05-12 07:16:25 UTC  2353219986312397338  1515966223523303302   \n",
       "1048571  2020-05-12 07:08:37 UTC  2353219986429837851  1515966223509090006   \n",
       "1048572  2020-05-12 09:11:47 UTC  2353219986530501148  2273948222294589749   \n",
       "1048573  2020-05-12 06:43:09 UTC  2353219986656330269  1515966223509298712   \n",
       "1048574  2020-05-12 06:43:09 UTC  2353219986656330269  1515966223510402007   \n",
       "\n",
       "          category_id                        category_code     brand  user_id  \n",
       "1048565  2.268105e+18                                        barjher      0.0  \n",
       "1048566  2.268105e+18                                        akvafor      0.0  \n",
       "1048567  2.268105e+18  appliances.environment.water_heater     midea      0.0  \n",
       "1048568  2.268105e+18           appliances.environment.fan       ava      0.0  \n",
       "1048569  2.268105e+18        computers.peripherals.printer        hp      0.0  \n",
       "1048570  0.000000e+00                                57.87      none      0.0  \n",
       "1048571  2.268105e+18               electronics.smartphone      oppo      0.0  \n",
       "1048572  2.268105e+18     appliances.kitchen.refrigerators   samsung      0.0  \n",
       "1048573  2.268105e+18                                        rowenta      0.0  \n",
       "1048574  2.268105e+18                                       provence      0.0  "
      ]
     },
     "execution_count": 6,
     "metadata": {},
     "output_type": "execute_result"
    }
   ],
   "source": [
    "# Удалить колонку\n",
    "without = data.pop(\"price\")\n",
    "data[-10:]"
   ]
  },
  {
   "cell_type": "code",
   "execution_count": 7,
   "metadata": {
    "colab": {
     "base_uri": "https://localhost:8080/",
     "height": 363
    },
    "id": "KQevwIj-lS-R",
    "outputId": "8a227d57-80a5-4002-b97c-da449993b46d"
   },
   "outputs": [
    {
     "data": {
      "text/html": [
       "<div>\n",
       "<style scoped>\n",
       "    .dataframe tbody tr th:only-of-type {\n",
       "        vertical-align: middle;\n",
       "    }\n",
       "\n",
       "    .dataframe tbody tr th {\n",
       "        vertical-align: top;\n",
       "    }\n",
       "\n",
       "    .dataframe thead th {\n",
       "        text-align: right;\n",
       "    }\n",
       "</style>\n",
       "<table border=\"1\" class=\"dataframe\">\n",
       "  <thead>\n",
       "    <tr style=\"text-align: right;\">\n",
       "      <th></th>\n",
       "      <th>event_time</th>\n",
       "      <th>order_id</th>\n",
       "      <th>product_id</th>\n",
       "      <th>category_id</th>\n",
       "      <th>category_code</th>\n",
       "      <th>brand</th>\n",
       "      <th>user_id</th>\n",
       "      <th>price</th>\n",
       "    </tr>\n",
       "  </thead>\n",
       "  <tbody>\n",
       "    <tr>\n",
       "      <th>1048565</th>\n",
       "      <td>2020-05-12 08:52:26 UTC</td>\n",
       "      <td>2353219985976853015</td>\n",
       "      <td>1515966223510203952</td>\n",
       "      <td>2.268105e+18</td>\n",
       "      <td></td>\n",
       "      <td>barjher</td>\n",
       "      <td>0.0</td>\n",
       "      <td>4.84</td>\n",
       "    </tr>\n",
       "    <tr>\n",
       "      <th>1048566</th>\n",
       "      <td>2020-05-12 08:52:26 UTC</td>\n",
       "      <td>2353219985976853015</td>\n",
       "      <td>1515966223509261671</td>\n",
       "      <td>2.268105e+18</td>\n",
       "      <td></td>\n",
       "      <td>akvafor</td>\n",
       "      <td>0.0</td>\n",
       "      <td>11.55</td>\n",
       "    </tr>\n",
       "    <tr>\n",
       "      <th>1048567</th>\n",
       "      <td>2020-05-12 08:27:14 UTC</td>\n",
       "      <td>2353219986094293528</td>\n",
       "      <td>1515966223509088665</td>\n",
       "      <td>2.268105e+18</td>\n",
       "      <td>appliances.environment.water_heater</td>\n",
       "      <td>midea</td>\n",
       "      <td>0.0</td>\n",
       "      <td>85.63</td>\n",
       "    </tr>\n",
       "    <tr>\n",
       "      <th>1048568</th>\n",
       "      <td>2020-05-12 08:26:29 UTC</td>\n",
       "      <td>2353219986194956825</td>\n",
       "      <td>2273948299738218955</td>\n",
       "      <td>2.268105e+18</td>\n",
       "      <td>appliances.environment.fan</td>\n",
       "      <td>ava</td>\n",
       "      <td>0.0</td>\n",
       "      <td>13.87</td>\n",
       "    </tr>\n",
       "    <tr>\n",
       "      <th>1048569</th>\n",
       "      <td>2020-05-12 07:16:25 UTC</td>\n",
       "      <td>2353219986312397338</td>\n",
       "      <td>1515966223509105119</td>\n",
       "      <td>2.268105e+18</td>\n",
       "      <td>computers.peripherals.printer</td>\n",
       "      <td>hp</td>\n",
       "      <td>0.0</td>\n",
       "      <td>164.10</td>\n",
       "    </tr>\n",
       "    <tr>\n",
       "      <th>1048570</th>\n",
       "      <td>2020-05-12 07:16:25 UTC</td>\n",
       "      <td>2353219986312397338</td>\n",
       "      <td>1515966223523303302</td>\n",
       "      <td>0.000000e+00</td>\n",
       "      <td>57.87</td>\n",
       "      <td>none</td>\n",
       "      <td>0.0</td>\n",
       "      <td>0.00</td>\n",
       "    </tr>\n",
       "    <tr>\n",
       "      <th>1048571</th>\n",
       "      <td>2020-05-12 07:08:37 UTC</td>\n",
       "      <td>2353219986429837851</td>\n",
       "      <td>1515966223509090006</td>\n",
       "      <td>2.268105e+18</td>\n",
       "      <td>electronics.smartphone</td>\n",
       "      <td>oppo</td>\n",
       "      <td>0.0</td>\n",
       "      <td>231.23</td>\n",
       "    </tr>\n",
       "    <tr>\n",
       "      <th>1048572</th>\n",
       "      <td>2020-05-12 09:11:47 UTC</td>\n",
       "      <td>2353219986530501148</td>\n",
       "      <td>2273948222294589749</td>\n",
       "      <td>2.268105e+18</td>\n",
       "      <td>appliances.kitchen.refrigerators</td>\n",
       "      <td>samsung</td>\n",
       "      <td>0.0</td>\n",
       "      <td>520.81</td>\n",
       "    </tr>\n",
       "    <tr>\n",
       "      <th>1048573</th>\n",
       "      <td>2020-05-12 06:43:09 UTC</td>\n",
       "      <td>2353219986656330269</td>\n",
       "      <td>1515966223509298712</td>\n",
       "      <td>2.268105e+18</td>\n",
       "      <td></td>\n",
       "      <td>rowenta</td>\n",
       "      <td>0.0</td>\n",
       "      <td>55.53</td>\n",
       "    </tr>\n",
       "    <tr>\n",
       "      <th>1048574</th>\n",
       "      <td>2020-05-12 06:43:09 UTC</td>\n",
       "      <td>2353219986656330269</td>\n",
       "      <td>1515966223510402007</td>\n",
       "      <td>2.268105e+18</td>\n",
       "      <td></td>\n",
       "      <td>provence</td>\n",
       "      <td>0.0</td>\n",
       "      <td>3.91</td>\n",
       "    </tr>\n",
       "  </tbody>\n",
       "</table>\n",
       "</div>"
      ],
      "text/plain": [
       "                      event_time             order_id           product_id  \\\n",
       "1048565  2020-05-12 08:52:26 UTC  2353219985976853015  1515966223510203952   \n",
       "1048566  2020-05-12 08:52:26 UTC  2353219985976853015  1515966223509261671   \n",
       "1048567  2020-05-12 08:27:14 UTC  2353219986094293528  1515966223509088665   \n",
       "1048568  2020-05-12 08:26:29 UTC  2353219986194956825  2273948299738218955   \n",
       "1048569  2020-05-12 07:16:25 UTC  2353219986312397338  1515966223509105119   \n",
       "1048570  2020-05-12 07:16:25 UTC  2353219986312397338  1515966223523303302   \n",
       "1048571  2020-05-12 07:08:37 UTC  2353219986429837851  1515966223509090006   \n",
       "1048572  2020-05-12 09:11:47 UTC  2353219986530501148  2273948222294589749   \n",
       "1048573  2020-05-12 06:43:09 UTC  2353219986656330269  1515966223509298712   \n",
       "1048574  2020-05-12 06:43:09 UTC  2353219986656330269  1515966223510402007   \n",
       "\n",
       "          category_id                        category_code     brand  user_id  \\\n",
       "1048565  2.268105e+18                                        barjher      0.0   \n",
       "1048566  2.268105e+18                                        akvafor      0.0   \n",
       "1048567  2.268105e+18  appliances.environment.water_heater     midea      0.0   \n",
       "1048568  2.268105e+18           appliances.environment.fan       ava      0.0   \n",
       "1048569  2.268105e+18        computers.peripherals.printer        hp      0.0   \n",
       "1048570  0.000000e+00                                57.87      none      0.0   \n",
       "1048571  2.268105e+18               electronics.smartphone      oppo      0.0   \n",
       "1048572  2.268105e+18     appliances.kitchen.refrigerators   samsung      0.0   \n",
       "1048573  2.268105e+18                                        rowenta      0.0   \n",
       "1048574  2.268105e+18                                       provence      0.0   \n",
       "\n",
       "          price  \n",
       "1048565    4.84  \n",
       "1048566   11.55  \n",
       "1048567   85.63  \n",
       "1048568   13.87  \n",
       "1048569  164.10  \n",
       "1048570    0.00  \n",
       "1048571  231.23  \n",
       "1048572  520.81  \n",
       "1048573   55.53  \n",
       "1048574    3.91  "
      ]
     },
     "execution_count": 7,
     "metadata": {},
     "output_type": "execute_result"
    }
   ],
   "source": [
    "# Восстановить колонку\n",
    "data[\"price\"] = without\n",
    "data[-10:]"
   ]
  },
  {
   "cell_type": "markdown",
   "metadata": {
    "id": "GGWjhS5iMnCU"
   },
   "source": [
    "#### 5. Отсортируйте стоимость товаров по убыванию, выведите 7 дорогих товаров. Отсортируйте товары по возрастанию стоимости, выведите 7 дешевых товаров  (по choice_description)\n",
    "\n",
    "Для этого избавьтесь от дубликатов и отсортируйте товары. Не забудьте про количество товара."
   ]
  },
  {
   "cell_type": "code",
   "execution_count": 8,
   "metadata": {
    "colab": {
     "base_uri": "https://localhost:8080/",
     "height": 303
    },
    "id": "XFQUlnQDMnCU",
    "outputId": "2c4ba927-b7f5-4da7-dcd8-0b1db8854978"
   },
   "outputs": [
    {
     "name": "stderr",
     "output_type": "stream",
     "text": [
      "C:\\Users\\Mikhail\\AppData\\Local\\Temp\\ipykernel_7944\\1097028812.py:3: UserWarning: Boolean Series key will be reindexed to match DataFrame index.\n",
      "  data[data[\"category_code\"] != \"\"][data[\"brand\"] != \"\"][-7:]\n"
     ]
    },
    {
     "data": {
      "text/html": [
       "<div>\n",
       "<style scoped>\n",
       "    .dataframe tbody tr th:only-of-type {\n",
       "        vertical-align: middle;\n",
       "    }\n",
       "\n",
       "    .dataframe tbody tr th {\n",
       "        vertical-align: top;\n",
       "    }\n",
       "\n",
       "    .dataframe thead th {\n",
       "        text-align: right;\n",
       "    }\n",
       "</style>\n",
       "<table border=\"1\" class=\"dataframe\">\n",
       "  <thead>\n",
       "    <tr style=\"text-align: right;\">\n",
       "      <th></th>\n",
       "      <th>event_time</th>\n",
       "      <th>order_id</th>\n",
       "      <th>product_id</th>\n",
       "      <th>category_id</th>\n",
       "      <th>category_code</th>\n",
       "      <th>brand</th>\n",
       "      <th>user_id</th>\n",
       "      <th>price</th>\n",
       "    </tr>\n",
       "  </thead>\n",
       "  <tbody>\n",
       "    <tr>\n",
       "      <th>1004036</th>\n",
       "      <td>2020-04-23 02:29:07 UTC</td>\n",
       "      <td>2348832371001786662</td>\n",
       "      <td>1515966223509381369</td>\n",
       "      <td>2.374499e+18</td>\n",
       "      <td>electronics.video.tv</td>\n",
       "      <td>samsung</td>\n",
       "      <td>1.515916e+18</td>\n",
       "      <td>8.101830e+03</td>\n",
       "    </tr>\n",
       "    <tr>\n",
       "      <th>243024</th>\n",
       "      <td>2020-01-22 09:45:20 UTC</td>\n",
       "      <td>2348777238092054713</td>\n",
       "      <td>2273948254783668706</td>\n",
       "      <td>2.268105e+18</td>\n",
       "      <td>electronics.video.tv</td>\n",
       "      <td>samsung</td>\n",
       "      <td>0.000000e+00</td>\n",
       "      <td>8.101830e+03</td>\n",
       "    </tr>\n",
       "    <tr>\n",
       "      <th>191285</th>\n",
       "      <td>2020-01-17 10:52:12 UTC</td>\n",
       "      <td>2348774225508041538</td>\n",
       "      <td>2273948308655309531</td>\n",
       "      <td>2.268105e+18</td>\n",
       "      <td>appliances.kitchen.refrigerators</td>\n",
       "      <td>lg</td>\n",
       "      <td>0.000000e+00</td>\n",
       "      <td>9.173590e+03</td>\n",
       "    </tr>\n",
       "    <tr>\n",
       "      <th>8742</th>\n",
       "      <td>2020-05-14 09:09:41 UTC</td>\n",
       "      <td>2308774433587724743</td>\n",
       "      <td>1515966223509105377</td>\n",
       "      <td>2.268105e+18</td>\n",
       "      <td>electronics.smartphone</td>\n",
       "      <td>lg</td>\n",
       "      <td>1.515916e+18</td>\n",
       "      <td>9.606480e+03</td>\n",
       "    </tr>\n",
       "    <tr>\n",
       "      <th>28623</th>\n",
       "      <td>2020-06-26 09:10:44 UTC</td>\n",
       "      <td>2339940319191106553</td>\n",
       "      <td>1515966223509566954</td>\n",
       "      <td>2.374499e+18</td>\n",
       "      <td>electronics.video.tv</td>\n",
       "      <td>none</td>\n",
       "      <td>1.515916e+18</td>\n",
       "      <td>1.331016e+04</td>\n",
       "    </tr>\n",
       "    <tr>\n",
       "      <th>28182</th>\n",
       "      <td>2020-06-25 10:08:37 UTC</td>\n",
       "      <td>2339244674033647628</td>\n",
       "      <td>1515966223509131884</td>\n",
       "      <td>2.374499e+18</td>\n",
       "      <td>electronics.video.tv</td>\n",
       "      <td>none</td>\n",
       "      <td>1.515916e+18</td>\n",
       "      <td>1.832868e+04</td>\n",
       "    </tr>\n",
       "    <tr>\n",
       "      <th>4</th>\n",
       "      <td>2020-04-24 19:16:21 UTC</td>\n",
       "      <td>2294584263154074236</td>\n",
       "      <td>2273948316817424439</td>\n",
       "      <td>2.268105e+18</td>\n",
       "      <td>karcher</td>\n",
       "      <td>217.57</td>\n",
       "      <td>0.000000e+00</td>\n",
       "      <td>1.515916e+18</td>\n",
       "    </tr>\n",
       "  </tbody>\n",
       "</table>\n",
       "</div>"
      ],
      "text/plain": [
       "                      event_time             order_id           product_id  \\\n",
       "1004036  2020-04-23 02:29:07 UTC  2348832371001786662  1515966223509381369   \n",
       "243024   2020-01-22 09:45:20 UTC  2348777238092054713  2273948254783668706   \n",
       "191285   2020-01-17 10:52:12 UTC  2348774225508041538  2273948308655309531   \n",
       "8742     2020-05-14 09:09:41 UTC  2308774433587724743  1515966223509105377   \n",
       "28623    2020-06-26 09:10:44 UTC  2339940319191106553  1515966223509566954   \n",
       "28182    2020-06-25 10:08:37 UTC  2339244674033647628  1515966223509131884   \n",
       "4        2020-04-24 19:16:21 UTC  2294584263154074236  2273948316817424439   \n",
       "\n",
       "          category_id                     category_code    brand  \\\n",
       "1004036  2.374499e+18              electronics.video.tv  samsung   \n",
       "243024   2.268105e+18              electronics.video.tv  samsung   \n",
       "191285   2.268105e+18  appliances.kitchen.refrigerators       lg   \n",
       "8742     2.268105e+18            electronics.smartphone       lg   \n",
       "28623    2.374499e+18              electronics.video.tv     none   \n",
       "28182    2.374499e+18              electronics.video.tv     none   \n",
       "4        2.268105e+18                           karcher   217.57   \n",
       "\n",
       "              user_id         price  \n",
       "1004036  1.515916e+18  8.101830e+03  \n",
       "243024   0.000000e+00  8.101830e+03  \n",
       "191285   0.000000e+00  9.173590e+03  \n",
       "8742     1.515916e+18  9.606480e+03  \n",
       "28623    1.515916e+18  1.331016e+04  \n",
       "28182    1.515916e+18  1.832868e+04  \n",
       "4        0.000000e+00  1.515916e+18  "
      ]
     },
     "execution_count": 8,
     "metadata": {},
     "output_type": "execute_result"
    }
   ],
   "source": [
    "# 7 дорогих товаров\n",
    "data = data.sort_values(\"price\")\n",
    "data[data[\"category_code\"] != \"\"][data[\"brand\"] != \"\"][-7:]"
   ]
  },
  {
   "cell_type": "code",
   "execution_count": 9,
   "metadata": {
    "colab": {
     "base_uri": "https://localhost:8080/",
     "height": 303
    },
    "id": "Qz5lqvTulMFH",
    "outputId": "6390bc0a-df45-474b-fcab-e36d27569cee"
   },
   "outputs": [
    {
     "name": "stderr",
     "output_type": "stream",
     "text": [
      "C:\\Users\\Mikhail\\AppData\\Local\\Temp\\ipykernel_7944\\1517472882.py:3: UserWarning: Boolean Series key will be reindexed to match DataFrame index.\n",
      "  data[data[\"category_code\"] != \"\"][data[\"brand\"] != \"\"][data[\"price\"] != 0][-7:]\n"
     ]
    },
    {
     "data": {
      "text/html": [
       "<div>\n",
       "<style scoped>\n",
       "    .dataframe tbody tr th:only-of-type {\n",
       "        vertical-align: middle;\n",
       "    }\n",
       "\n",
       "    .dataframe tbody tr th {\n",
       "        vertical-align: top;\n",
       "    }\n",
       "\n",
       "    .dataframe thead th {\n",
       "        text-align: right;\n",
       "    }\n",
       "</style>\n",
       "<table border=\"1\" class=\"dataframe\">\n",
       "  <thead>\n",
       "    <tr style=\"text-align: right;\">\n",
       "      <th></th>\n",
       "      <th>event_time</th>\n",
       "      <th>order_id</th>\n",
       "      <th>product_id</th>\n",
       "      <th>category_id</th>\n",
       "      <th>category_code</th>\n",
       "      <th>brand</th>\n",
       "      <th>user_id</th>\n",
       "      <th>price</th>\n",
       "    </tr>\n",
       "  </thead>\n",
       "  <tbody>\n",
       "    <tr>\n",
       "      <th>402643</th>\n",
       "      <td>2020-02-07 05:33:18 UTC</td>\n",
       "      <td>2348789196170199222</td>\n",
       "      <td>2273948282398966708</td>\n",
       "      <td>2.268105e+18</td>\n",
       "      <td>electronics.audio.headphone</td>\n",
       "      <td>sbs</td>\n",
       "      <td>0.000000e+00</td>\n",
       "      <td>0.23</td>\n",
       "    </tr>\n",
       "    <tr>\n",
       "      <th>231345</th>\n",
       "      <td>2020-01-21 07:36:55 UTC</td>\n",
       "      <td>2348776718325514672</td>\n",
       "      <td>2273948282398966707</td>\n",
       "      <td>2.268105e+18</td>\n",
       "      <td>electronics.audio.headphone</td>\n",
       "      <td>sbs</td>\n",
       "      <td>1.515916e+18</td>\n",
       "      <td>0.23</td>\n",
       "    </tr>\n",
       "    <tr>\n",
       "      <th>197320</th>\n",
       "      <td>2020-01-17 12:16:54 UTC</td>\n",
       "      <td>2348774707718783826</td>\n",
       "      <td>2273948282398966707</td>\n",
       "      <td>2.268105e+18</td>\n",
       "      <td>electronics.audio.headphone</td>\n",
       "      <td>sbs</td>\n",
       "      <td>0.000000e+00</td>\n",
       "      <td>0.23</td>\n",
       "    </tr>\n",
       "    <tr>\n",
       "      <th>193454</th>\n",
       "      <td>2020-01-16 08:45:45 UTC</td>\n",
       "      <td>2348774371612427128</td>\n",
       "      <td>1515966223509631234</td>\n",
       "      <td>2.268105e+18</td>\n",
       "      <td>stationery.stapler</td>\n",
       "      <td>hoco</td>\n",
       "      <td>0.000000e+00</td>\n",
       "      <td>0.23</td>\n",
       "    </tr>\n",
       "    <tr>\n",
       "      <th>1002736</th>\n",
       "      <td>2020-04-22 12:14:08 UTC</td>\n",
       "      <td>2348832201962946837</td>\n",
       "      <td>2273948282398966707</td>\n",
       "      <td>2.268105e+18</td>\n",
       "      <td>electronics.audio.headphone</td>\n",
       "      <td>sbs</td>\n",
       "      <td>1.515916e+18</td>\n",
       "      <td>0.23</td>\n",
       "    </tr>\n",
       "    <tr>\n",
       "      <th>1017468</th>\n",
       "      <td>2020-07-14 04:50:31 UTC</td>\n",
       "      <td>2352855308012880346</td>\n",
       "      <td>2309018260231684957</td>\n",
       "      <td>2.268106e+18</td>\n",
       "      <td>apparel.glove</td>\n",
       "      <td>rossija</td>\n",
       "      <td>1.515916e+18</td>\n",
       "      <td>0.21</td>\n",
       "    </tr>\n",
       "    <tr>\n",
       "      <th>7468</th>\n",
       "      <td>2020-05-12 10:53:34 UTC</td>\n",
       "      <td>2307377169208181572</td>\n",
       "      <td>1515966223510032494</td>\n",
       "      <td>2.268105e+18</td>\n",
       "      <td>computers.notebook</td>\n",
       "      <td>none</td>\n",
       "      <td>1.515916e+18</td>\n",
       "      <td>0.02</td>\n",
       "    </tr>\n",
       "  </tbody>\n",
       "</table>\n",
       "</div>"
      ],
      "text/plain": [
       "                      event_time             order_id           product_id  \\\n",
       "402643   2020-02-07 05:33:18 UTC  2348789196170199222  2273948282398966708   \n",
       "231345   2020-01-21 07:36:55 UTC  2348776718325514672  2273948282398966707   \n",
       "197320   2020-01-17 12:16:54 UTC  2348774707718783826  2273948282398966707   \n",
       "193454   2020-01-16 08:45:45 UTC  2348774371612427128  1515966223509631234   \n",
       "1002736  2020-04-22 12:14:08 UTC  2348832201962946837  2273948282398966707   \n",
       "1017468  2020-07-14 04:50:31 UTC  2352855308012880346  2309018260231684957   \n",
       "7468     2020-05-12 10:53:34 UTC  2307377169208181572  1515966223510032494   \n",
       "\n",
       "          category_id                category_code    brand       user_id  \\\n",
       "402643   2.268105e+18  electronics.audio.headphone      sbs  0.000000e+00   \n",
       "231345   2.268105e+18  electronics.audio.headphone      sbs  1.515916e+18   \n",
       "197320   2.268105e+18  electronics.audio.headphone      sbs  0.000000e+00   \n",
       "193454   2.268105e+18           stationery.stapler     hoco  0.000000e+00   \n",
       "1002736  2.268105e+18  electronics.audio.headphone      sbs  1.515916e+18   \n",
       "1017468  2.268106e+18                apparel.glove  rossija  1.515916e+18   \n",
       "7468     2.268105e+18           computers.notebook     none  1.515916e+18   \n",
       "\n",
       "         price  \n",
       "402643    0.23  \n",
       "231345    0.23  \n",
       "197320    0.23  \n",
       "193454    0.23  \n",
       "1002736   0.23  \n",
       "1017468   0.21  \n",
       "7468      0.02  "
      ]
     },
     "execution_count": 9,
     "metadata": {},
     "output_type": "execute_result"
    }
   ],
   "source": [
    "# 7 дешёвых товаров\n",
    "data = data.sort_values(\"price\", ascending=False)\n",
    "data[data[\"category_code\"] != \"\"][data[\"brand\"] != \"\"][data[\"price\"] != 0][-7:]"
   ]
  },
  {
   "cell_type": "markdown",
   "metadata": {
    "id": "1MNLjbjIMnCV"
   },
   "source": [
    "#### 6. Выведите информацию о том, сколько раз клиенты покупали больше 1 товара apple (brand)?"
   ]
  },
  {
   "cell_type": "code",
   "execution_count": 10,
   "metadata": {
    "colab": {
     "base_uri": "https://localhost:8080/"
    },
    "id": "A_gWCSOsMnCV",
    "outputId": "c8e178f9-e796-43f2-8047-67c8c91fa6ab"
   },
   "outputs": [
    {
     "name": "stdout",
     "output_type": "stream",
     "text": [
      "Total:  627\n"
     ]
    }
   ],
   "source": [
    "apple = data[data[\"brand\"] == \"apple\"]\n",
    "apple = apple[apple[\"user_id\"] != 0]\n",
    "apple = apple.groupby([\"user_id\"]).count()\n",
    "print(\"Total: \", len(apple[apple[\"category_code\"] > 1]))"
   ]
  },
  {
   "cell_type": "markdown",
   "metadata": {
    "id": "edJ6RmjyMnCW"
   },
   "source": [
    "#### 7. Выведите информацию о среднем чеке у заказа и сколько в среднем товаров покупают?\n",
    "\n",
    "Если необходимо провести вычисления в терминах заказов, то будет удобно сгруппировать строки по заказам и посчитать необходимые значения."
   ]
  },
  {
   "cell_type": "code",
   "execution_count": 11,
   "metadata": {
    "colab": {
     "base_uri": "https://localhost:8080/"
    },
    "id": "sern9NgCMnCW",
    "outputId": "0034d581-36c3-4069-873b-69d6b9140a65"
   },
   "outputs": [
    {
     "name": "stdout",
     "output_type": "stream",
     "text": [
      "Mean check sum: 2802777095744.9004\n"
     ]
    }
   ],
   "source": [
    "# Средняя сумма чека\n",
    "check_sum = data.groupby([\"order_id\"]).sum()\n",
    "check_sum.pop(\"product_id\"); check_sum.pop(\"category_id\"); check_sum.pop(\"user_id\");\n",
    "print(\"Mean check sum:\", check_sum[\"price\"].mean())"
   ]
  },
  {
   "cell_type": "code",
   "execution_count": 12,
   "metadata": {
    "colab": {
     "base_uri": "https://localhost:8080/"
    },
    "id": "Fdt34ZnF98x8",
    "outputId": "23ff218d-4a09-4d8c-9406-b8aeafabbda1"
   },
   "outputs": [
    {
     "name": "stdout",
     "output_type": "stream",
     "text": [
      "Mean check count: 1.9387107986880203\n"
     ]
    }
   ],
   "source": [
    "# Среднее количество товаров\n",
    "check_count = data.groupby([\"order_id\"]).count()\n",
    "check_count.pop(\"price\"); check_count.pop(\"category_id\"); check_count.pop(\"user_id\");\n",
    "print(\"Mean check count:\", check_count[\"product_id\"].mean())"
   ]
  },
  {
   "cell_type": "markdown",
   "metadata": {
    "id": "tdyG8HwMMnCW"
   },
   "source": [
    "#### 8. Выведите количество заказов с 1 товаром."
   ]
  },
  {
   "cell_type": "code",
   "execution_count": 13,
   "metadata": {
    "colab": {
     "base_uri": "https://localhost:8080/"
    },
    "id": "QgftVhYzMnCX",
    "outputId": "e44c4274-f7fe-4f17-93f4-fcf95927ded2"
   },
   "outputs": [
    {
     "name": "stdout",
     "output_type": "stream",
     "text": [
      "Orders with 1 product: 315564\n"
     ]
    }
   ],
   "source": [
    "print(\"Orders with 1 product:\", len(check_count[check_count[\"product_id\"] == 1]))"
   ]
  },
  {
   "cell_type": "markdown",
   "metadata": {
    "id": "yllFuxj9MnCX"
   },
   "source": [
    "#### 9. Выведите самую популярную категорию товара."
   ]
  },
  {
   "cell_type": "code",
   "execution_count": 14,
   "metadata": {
    "colab": {
     "base_uri": "https://localhost:8080/",
     "height": 112
    },
    "id": "59q8fjVbMnCX",
    "outputId": "06201bf6-12c7-4512-f53e-59de743e599f"
   },
   "outputs": [
    {
     "data": {
      "text/html": [
       "<div>\n",
       "<style scoped>\n",
       "    .dataframe tbody tr th:only-of-type {\n",
       "        vertical-align: middle;\n",
       "    }\n",
       "\n",
       "    .dataframe tbody tr th {\n",
       "        vertical-align: top;\n",
       "    }\n",
       "\n",
       "    .dataframe thead th {\n",
       "        text-align: right;\n",
       "    }\n",
       "</style>\n",
       "<table border=\"1\" class=\"dataframe\">\n",
       "  <thead>\n",
       "    <tr style=\"text-align: right;\">\n",
       "      <th></th>\n",
       "      <th>product_id</th>\n",
       "    </tr>\n",
       "    <tr>\n",
       "      <th>category_code</th>\n",
       "      <th></th>\n",
       "    </tr>\n",
       "  </thead>\n",
       "  <tbody>\n",
       "    <tr>\n",
       "      <th>electronics.smartphone</th>\n",
       "      <td>129429</td>\n",
       "    </tr>\n",
       "  </tbody>\n",
       "</table>\n",
       "</div>"
      ],
      "text/plain": [
       "                        product_id\n",
       "category_code                     \n",
       "electronics.smartphone      129429"
      ]
     },
     "execution_count": 14,
     "metadata": {},
     "output_type": "execute_result"
    }
   ],
   "source": [
    "category_count = data[data[\"category_code\"] != \"\"].groupby([\"category_code\"]).count()\n",
    "category_count.pop(\"price\"); category_count.pop(\"order_id\"); \n",
    "category_count.pop(\"user_id\"); category_count.pop(\"category_id\");\n",
    "category_count.pop(\"event_time\"); category_count.pop(\"brand\");\n",
    "category_count = category_count.sort_values(\"product_id\")\n",
    "category_count[-1:]"
   ]
  },
  {
   "cell_type": "markdown",
   "metadata": {
    "id": "1vNJCwcmMnCY"
   },
   "source": [
    "#### 10. Выведите виды товаров Apple. Какой из них чаще всего покупают? Какой из них самый дорогой? "
   ]
  },
  {
   "cell_type": "code",
   "execution_count": 15,
   "metadata": {
    "colab": {
     "base_uri": "https://localhost:8080/",
     "height": 426
    },
    "id": "YVTe91zyMnCY",
    "outputId": "12b7ce5e-c739-491f-ac88-e657d56c4b6b"
   },
   "outputs": [
    {
     "data": {
      "text/html": [
       "<div>\n",
       "<style scoped>\n",
       "    .dataframe tbody tr th:only-of-type {\n",
       "        vertical-align: middle;\n",
       "    }\n",
       "\n",
       "    .dataframe tbody tr th {\n",
       "        vertical-align: top;\n",
       "    }\n",
       "\n",
       "    .dataframe thead th {\n",
       "        text-align: right;\n",
       "    }\n",
       "</style>\n",
       "<table border=\"1\" class=\"dataframe\">\n",
       "  <thead>\n",
       "    <tr style=\"text-align: right;\">\n",
       "      <th></th>\n",
       "      <th>event_time</th>\n",
       "      <th>order_id</th>\n",
       "      <th>product_id</th>\n",
       "      <th>category_id</th>\n",
       "      <th>brand</th>\n",
       "      <th>user_id</th>\n",
       "      <th>price</th>\n",
       "    </tr>\n",
       "    <tr>\n",
       "      <th>category_code</th>\n",
       "      <th></th>\n",
       "      <th></th>\n",
       "      <th></th>\n",
       "      <th></th>\n",
       "      <th></th>\n",
       "      <th></th>\n",
       "      <th></th>\n",
       "    </tr>\n",
       "  </thead>\n",
       "  <tbody>\n",
       "    <tr>\n",
       "      <th>computers.components.cooler</th>\n",
       "      <td>71</td>\n",
       "      <td>71</td>\n",
       "      <td>71</td>\n",
       "      <td>71</td>\n",
       "      <td>71</td>\n",
       "      <td>71</td>\n",
       "      <td>71</td>\n",
       "    </tr>\n",
       "    <tr>\n",
       "      <th>computers.components.hdd</th>\n",
       "      <td>288</td>\n",
       "      <td>288</td>\n",
       "      <td>288</td>\n",
       "      <td>288</td>\n",
       "      <td>288</td>\n",
       "      <td>288</td>\n",
       "      <td>288</td>\n",
       "    </tr>\n",
       "    <tr>\n",
       "      <th>computers.desktop</th>\n",
       "      <td>53</td>\n",
       "      <td>53</td>\n",
       "      <td>53</td>\n",
       "      <td>53</td>\n",
       "      <td>53</td>\n",
       "      <td>53</td>\n",
       "      <td>53</td>\n",
       "    </tr>\n",
       "    <tr>\n",
       "      <th>computers.notebook</th>\n",
       "      <td>995</td>\n",
       "      <td>995</td>\n",
       "      <td>995</td>\n",
       "      <td>995</td>\n",
       "      <td>995</td>\n",
       "      <td>995</td>\n",
       "      <td>995</td>\n",
       "    </tr>\n",
       "    <tr>\n",
       "      <th>computers.peripherals.keyboard</th>\n",
       "      <td>24</td>\n",
       "      <td>24</td>\n",
       "      <td>24</td>\n",
       "      <td>24</td>\n",
       "      <td>24</td>\n",
       "      <td>24</td>\n",
       "      <td>24</td>\n",
       "    </tr>\n",
       "    <tr>\n",
       "      <th>computers.peripherals.mouse</th>\n",
       "      <td>105</td>\n",
       "      <td>105</td>\n",
       "      <td>105</td>\n",
       "      <td>105</td>\n",
       "      <td>105</td>\n",
       "      <td>105</td>\n",
       "      <td>105</td>\n",
       "    </tr>\n",
       "    <tr>\n",
       "      <th>construction.tools.screw</th>\n",
       "      <td>404</td>\n",
       "      <td>404</td>\n",
       "      <td>404</td>\n",
       "      <td>404</td>\n",
       "      <td>404</td>\n",
       "      <td>404</td>\n",
       "      <td>404</td>\n",
       "    </tr>\n",
       "    <tr>\n",
       "      <th>electronics.audio.headphone</th>\n",
       "      <td>3306</td>\n",
       "      <td>3306</td>\n",
       "      <td>3306</td>\n",
       "      <td>3306</td>\n",
       "      <td>3306</td>\n",
       "      <td>3306</td>\n",
       "      <td>3306</td>\n",
       "    </tr>\n",
       "    <tr>\n",
       "      <th>electronics.clocks</th>\n",
       "      <td>2106</td>\n",
       "      <td>2106</td>\n",
       "      <td>2106</td>\n",
       "      <td>2106</td>\n",
       "      <td>2106</td>\n",
       "      <td>2106</td>\n",
       "      <td>2106</td>\n",
       "    </tr>\n",
       "    <tr>\n",
       "      <th>electronics.smartphone</th>\n",
       "      <td>15060</td>\n",
       "      <td>15060</td>\n",
       "      <td>15060</td>\n",
       "      <td>15060</td>\n",
       "      <td>15060</td>\n",
       "      <td>15060</td>\n",
       "      <td>15060</td>\n",
       "    </tr>\n",
       "    <tr>\n",
       "      <th>electronics.tablet</th>\n",
       "      <td>759</td>\n",
       "      <td>759</td>\n",
       "      <td>759</td>\n",
       "      <td>759</td>\n",
       "      <td>759</td>\n",
       "      <td>759</td>\n",
       "      <td>759</td>\n",
       "    </tr>\n",
       "  </tbody>\n",
       "</table>\n",
       "</div>"
      ],
      "text/plain": [
       "                                event_time  order_id  product_id  category_id  \\\n",
       "category_code                                                                   \n",
       "computers.components.cooler             71        71          71           71   \n",
       "computers.components.hdd               288       288         288          288   \n",
       "computers.desktop                       53        53          53           53   \n",
       "computers.notebook                     995       995         995          995   \n",
       "computers.peripherals.keyboard          24        24          24           24   \n",
       "computers.peripherals.mouse            105       105         105          105   \n",
       "construction.tools.screw               404       404         404          404   \n",
       "electronics.audio.headphone           3306      3306        3306         3306   \n",
       "electronics.clocks                    2106      2106        2106         2106   \n",
       "electronics.smartphone               15060     15060       15060        15060   \n",
       "electronics.tablet                     759       759         759          759   \n",
       "\n",
       "                                brand  user_id  price  \n",
       "category_code                                          \n",
       "computers.components.cooler        71       71     71  \n",
       "computers.components.hdd          288      288    288  \n",
       "computers.desktop                  53       53     53  \n",
       "computers.notebook                995      995    995  \n",
       "computers.peripherals.keyboard     24       24     24  \n",
       "computers.peripherals.mouse       105      105    105  \n",
       "construction.tools.screw          404      404    404  \n",
       "electronics.audio.headphone      3306     3306   3306  \n",
       "electronics.clocks               2106     2106   2106  \n",
       "electronics.smartphone          15060    15060  15060  \n",
       "electronics.tablet                759      759    759  "
      ]
     },
     "execution_count": 15,
     "metadata": {},
     "output_type": "execute_result"
    }
   ],
   "source": [
    "apple2 = data[data[\"brand\"] == \"apple\"]\n",
    "apple2 = apple2[apple2[\"category_code\"] != \"\"]\n",
    "apple3 = apple2.groupby(\"category_code\").count()\n",
    "apple3"
   ]
  },
  {
   "cell_type": "code",
   "execution_count": 16,
   "metadata": {
    "colab": {
     "base_uri": "https://localhost:8080/",
     "height": 112
    },
    "id": "uGKrOcA4DwLw",
    "outputId": "2b243402-9206-497b-8a2d-4710e598bf8b"
   },
   "outputs": [
    {
     "data": {
      "text/html": [
       "<div>\n",
       "<style scoped>\n",
       "    .dataframe tbody tr th:only-of-type {\n",
       "        vertical-align: middle;\n",
       "    }\n",
       "\n",
       "    .dataframe tbody tr th {\n",
       "        vertical-align: top;\n",
       "    }\n",
       "\n",
       "    .dataframe thead th {\n",
       "        text-align: right;\n",
       "    }\n",
       "</style>\n",
       "<table border=\"1\" class=\"dataframe\">\n",
       "  <thead>\n",
       "    <tr style=\"text-align: right;\">\n",
       "      <th></th>\n",
       "      <th>event_time</th>\n",
       "      <th>order_id</th>\n",
       "      <th>product_id</th>\n",
       "      <th>category_id</th>\n",
       "      <th>brand</th>\n",
       "      <th>user_id</th>\n",
       "      <th>price</th>\n",
       "    </tr>\n",
       "    <tr>\n",
       "      <th>category_code</th>\n",
       "      <th></th>\n",
       "      <th></th>\n",
       "      <th></th>\n",
       "      <th></th>\n",
       "      <th></th>\n",
       "      <th></th>\n",
       "      <th></th>\n",
       "    </tr>\n",
       "  </thead>\n",
       "  <tbody>\n",
       "    <tr>\n",
       "      <th>electronics.smartphone</th>\n",
       "      <td>15060</td>\n",
       "      <td>15060</td>\n",
       "      <td>15060</td>\n",
       "      <td>15060</td>\n",
       "      <td>15060</td>\n",
       "      <td>15060</td>\n",
       "      <td>15060</td>\n",
       "    </tr>\n",
       "  </tbody>\n",
       "</table>\n",
       "</div>"
      ],
      "text/plain": [
       "                        event_time  order_id  product_id  category_id  brand  \\\n",
       "category_code                                                                  \n",
       "electronics.smartphone       15060     15060       15060        15060  15060   \n",
       "\n",
       "                        user_id  price  \n",
       "category_code                           \n",
       "electronics.smartphone    15060  15060  "
      ]
     },
     "execution_count": 16,
     "metadata": {},
     "output_type": "execute_result"
    }
   ],
   "source": [
    "apple3 = apple3.sort_values(\"order_id\")\n",
    "apple3[-1:]"
   ]
  },
  {
   "cell_type": "code",
   "execution_count": 17,
   "metadata": {
    "colab": {
     "base_uri": "https://localhost:8080/",
     "height": 81
    },
    "id": "twn0qC6BEpgX",
    "outputId": "43506c9e-85c8-4ee4-f243-469b3a062f39"
   },
   "outputs": [
    {
     "data": {
      "text/html": [
       "<div>\n",
       "<style scoped>\n",
       "    .dataframe tbody tr th:only-of-type {\n",
       "        vertical-align: middle;\n",
       "    }\n",
       "\n",
       "    .dataframe tbody tr th {\n",
       "        vertical-align: top;\n",
       "    }\n",
       "\n",
       "    .dataframe thead th {\n",
       "        text-align: right;\n",
       "    }\n",
       "</style>\n",
       "<table border=\"1\" class=\"dataframe\">\n",
       "  <thead>\n",
       "    <tr style=\"text-align: right;\">\n",
       "      <th></th>\n",
       "      <th>event_time</th>\n",
       "      <th>order_id</th>\n",
       "      <th>product_id</th>\n",
       "      <th>category_id</th>\n",
       "      <th>category_code</th>\n",
       "      <th>brand</th>\n",
       "      <th>user_id</th>\n",
       "      <th>price</th>\n",
       "    </tr>\n",
       "  </thead>\n",
       "  <tbody>\n",
       "    <tr>\n",
       "      <th>1004615</th>\n",
       "      <td>2020-04-23 11:04:34 UTC</td>\n",
       "      <td>2348832442028131065</td>\n",
       "      <td>1515966223509130727</td>\n",
       "      <td>2.268105e+18</td>\n",
       "      <td>computers.desktop</td>\n",
       "      <td>apple</td>\n",
       "      <td>1.515916e+18</td>\n",
       "      <td>6018.5</td>\n",
       "    </tr>\n",
       "  </tbody>\n",
       "</table>\n",
       "</div>"
      ],
      "text/plain": [
       "                      event_time             order_id           product_id  \\\n",
       "1004615  2020-04-23 11:04:34 UTC  2348832442028131065  1515966223509130727   \n",
       "\n",
       "          category_id      category_code  brand       user_id   price  \n",
       "1004615  2.268105e+18  computers.desktop  apple  1.515916e+18  6018.5  "
      ]
     },
     "execution_count": 17,
     "metadata": {},
     "output_type": "execute_result"
    }
   ],
   "source": [
    "apple4 = apple2.sort_values(\"price\")\n",
    "apple4[-1:]"
   ]
  },
  {
   "cell_type": "markdown",
   "metadata": {
    "collapsed": true,
    "id": "JX6KaRKeMnCZ"
   },
   "source": [
    "#### 11. В каком количестве заказов есть товар, который стоит более 40% от суммы всего чека?\n",
    "\n",
    "Возможно, будет удобно посчитать отдельно средний чек, добавить его в исходные данные и сделать необходимые проверки."
   ]
  },
  {
   "cell_type": "code",
   "execution_count": null,
   "metadata": {
    "id": "pk5psTFpMnCZ"
   },
   "outputs": [],
   "source": [
    "sum = data[data[\"order_id\"] != 0].groupby([\"order_id\"]).sum()[\"price\"]\n",
    "sum = pd.DataFrame(sum, index = sum.index, columns=[\"price\"])\n",
    "sum = sum[sum[\"price\"] != 0]\n",
    "\n",
    "orders = 0\n",
    "filter = data[data[\"order_id\"].isin(sum.index)]\n",
    "\n",
    "def map_func(index):\n",
    "    filter2 = filter[filter[\"order_id\"] == index][filter[\"price\"] > sum.loc[index].array[0] * 0.4]\n",
    "    if (len(filter2) > 0):\n",
    "        map_func.orders = map_func.orders + 1\n",
    "\n",
    "map_func.orders = 0\n",
    "sum.index.map(map_func)\n",
    "print(map_func.orders)"
   ]
  },
  {
   "cell_type": "markdown",
   "metadata": {
    "id": "FbEc0gi8MnCa"
   },
   "source": [
    "#### 12. Предположим, что в данных была ошибка и товар с product_id 1515966223509089906, который стоил 162.01, должен был стоить 170,02. Скорректируйте данные в таблицы и посчитайте, на какой процент больше денег было заработано с этого товара. Не забывайте, что количество товара не всегда равно 1."
   ]
  },
  {
   "cell_type": "code",
   "execution_count": 18,
   "metadata": {
    "colab": {
     "base_uri": "https://localhost:8080/"
    },
    "id": "3efObchSMnCa",
    "outputId": "347210e5-bdf0-4e71-88e8-94dd21800055"
   },
   "outputs": [
    {
     "name": "stdout",
     "output_type": "stream",
     "text": [
      "1057.3200000000024\n"
     ]
    }
   ],
   "source": [
    "prod = data[data[\"product_id\"] == 1515966223509089906]\n",
    "print(len(prod) * (170.02 - 162.01))"
   ]
  },
  {
   "cell_type": "markdown",
   "metadata": {
    "id": "wFpjvOxWMnCb"
   },
   "source": [
    "#### 13. Создайте новый DateFrame из матрицы, созданной ниже. Назовите колонки index, column1, column2 и сделайте первую колонку индексом."
   ]
  },
  {
   "cell_type": "code",
   "execution_count": 19,
   "metadata": {
    "colab": {
     "base_uri": "https://localhost:8080/",
     "height": 394
    },
    "id": "I2RYRSTXMnCb",
    "outputId": "d0144ff6-f436-4a70-8113-7eec97965cbc"
   },
   "outputs": [
    {
     "data": {
      "text/html": [
       "<div>\n",
       "<style scoped>\n",
       "    .dataframe tbody tr th:only-of-type {\n",
       "        vertical-align: middle;\n",
       "    }\n",
       "\n",
       "    .dataframe tbody tr th {\n",
       "        vertical-align: top;\n",
       "    }\n",
       "\n",
       "    .dataframe thead th {\n",
       "        text-align: right;\n",
       "    }\n",
       "</style>\n",
       "<table border=\"1\" class=\"dataframe\">\n",
       "  <thead>\n",
       "    <tr style=\"text-align: right;\">\n",
       "      <th></th>\n",
       "      <th>column1</th>\n",
       "      <th>column2</th>\n",
       "    </tr>\n",
       "    <tr>\n",
       "      <th>index</th>\n",
       "      <th></th>\n",
       "      <th></th>\n",
       "    </tr>\n",
       "  </thead>\n",
       "  <tbody>\n",
       "    <tr>\n",
       "      <th>0.444418</th>\n",
       "      <td>0.698875</td>\n",
       "      <td>0.783270</td>\n",
       "    </tr>\n",
       "    <tr>\n",
       "      <th>0.201198</th>\n",
       "      <td>0.646289</td>\n",
       "      <td>0.192690</td>\n",
       "    </tr>\n",
       "    <tr>\n",
       "      <th>0.462562</th>\n",
       "      <td>0.747627</td>\n",
       "      <td>0.393862</td>\n",
       "    </tr>\n",
       "    <tr>\n",
       "      <th>0.502979</th>\n",
       "      <td>0.168894</td>\n",
       "      <td>0.519679</td>\n",
       "    </tr>\n",
       "    <tr>\n",
       "      <th>0.499386</th>\n",
       "      <td>0.264794</td>\n",
       "      <td>0.787615</td>\n",
       "    </tr>\n",
       "    <tr>\n",
       "      <th>0.432664</th>\n",
       "      <td>0.834430</td>\n",
       "      <td>0.382580</td>\n",
       "    </tr>\n",
       "    <tr>\n",
       "      <th>0.872748</th>\n",
       "      <td>0.085922</td>\n",
       "      <td>0.979782</td>\n",
       "    </tr>\n",
       "    <tr>\n",
       "      <th>0.305131</th>\n",
       "      <td>0.788941</td>\n",
       "      <td>0.636648</td>\n",
       "    </tr>\n",
       "    <tr>\n",
       "      <th>0.112522</th>\n",
       "      <td>0.975409</td>\n",
       "      <td>0.157020</td>\n",
       "    </tr>\n",
       "    <tr>\n",
       "      <th>0.742115</th>\n",
       "      <td>0.940635</td>\n",
       "      <td>0.992981</td>\n",
       "    </tr>\n",
       "  </tbody>\n",
       "</table>\n",
       "</div>"
      ],
      "text/plain": [
       "           column1   column2\n",
       "index                       \n",
       "0.444418  0.698875  0.783270\n",
       "0.201198  0.646289  0.192690\n",
       "0.462562  0.747627  0.393862\n",
       "0.502979  0.168894  0.519679\n",
       "0.499386  0.264794  0.787615\n",
       "0.432664  0.834430  0.382580\n",
       "0.872748  0.085922  0.979782\n",
       "0.305131  0.788941  0.636648\n",
       "0.112522  0.975409  0.157020\n",
       "0.742115  0.940635  0.992981"
      ]
     },
     "execution_count": 19,
     "metadata": {},
     "output_type": "execute_result"
    }
   ],
   "source": [
    "ndata = np.random.rand(10, 3)\n",
    "mdata = pd.DataFrame(data={ 'column1': ndata[:, 1], 'column2': ndata[:, 2]}, index=ndata[:, 0])\n",
    "mdata.index.name = 'index'\n",
    "mdata"
   ]
  },
  {
   "cell_type": "markdown",
   "metadata": {
    "id": "wQbo6rlRMnCc"
   },
   "source": [
    "Сохраните DataFrame локально в формате csv без индексов и названий столбцов."
   ]
  },
  {
   "cell_type": "code",
   "execution_count": 20,
   "metadata": {
    "id": "3oOM98wgMnCd"
   },
   "outputs": [],
   "source": [
    "mdata.to_csv(\"lab1_output1.csv\", encoding=\"utf-8\")"
   ]
  },
  {
   "cell_type": "markdown",
   "metadata": {
    "id": "KtDvPOiZMnCe"
   },
   "source": [
    "## 2. Визуализации и matplotlib"
   ]
  },
  {
   "cell_type": "markdown",
   "metadata": {
    "id": "ptzlNE-eMnCe"
   },
   "source": [
    "Библиотека matplotlib - это бибилиотека двумерной графики для языка программирования python с помощью которой можно создавать высококачественные рисунки различных форматов. Matplotlib представляет собой модуль-пакет для python.\n",
    "Matplotlib cостоит из множества модулей. Модули наполнены различными классами и функциями, которые иерархически связаны между собой."
   ]
  },
  {
   "cell_type": "code",
   "execution_count": 21,
   "metadata": {
    "id": "a7V9VSDrMnCe"
   },
   "outputs": [],
   "source": [
    "%matplotlib inline\n",
    "\n",
    "import matplotlib.pyplot as plt\n",
    "import matplotlib.patches as patches\n",
    "import matplotlib.path as path"
   ]
  },
  {
   "cell_type": "markdown",
   "metadata": {
    "id": "QVH1_C73MnCf"
   },
   "source": [
    "На самом деле мы уже импортировали matplotlib внутри %pylab inline в начале задания.\n",
    "\n",
    "Работать мы будем с той же выборкой покупкок. Добавим новую колонку с датой покупки."
   ]
  },
  {
   "cell_type": "code",
   "execution_count": 22,
   "metadata": {
    "id": "cQpj1UysMnCf"
   },
   "outputs": [],
   "source": [
    "import datetime\n",
    "import random\n",
    "\n",
    "start = datetime.datetime(2018, 1, 1)\n",
    "end = datetime.datetime(2018, 1, 31)\n",
    "delta_seconds = int((end - start).total_seconds())\n",
    "\n",
    "dates = pd.DataFrame(index=df.order_id.unique())\n",
    "dates['date'] = [\n",
    "    (start + datetime.timedelta(seconds=random.randint(0, delta_seconds))).strftime('%Y-%m-%d')\n",
    "    for _ in range(df.order_id.nunique())]\n",
    "\n",
    "df['date'] = df.order_id.map(dates['date'])"
   ]
  },
  {
   "cell_type": "markdown",
   "metadata": {
    "id": "-yN7fuYcMnCg"
   },
   "source": [
    "#### 1. Постройте гистограмму распределения сумм покупок и гистограмму средних цен отдельных видов продуктов product_id. \n",
    "\n",
    "Изображайте на двух соседних графиках. Для используйте subplot."
   ]
  },
  {
   "cell_type": "code",
   "execution_count": 26,
   "metadata": {
    "id": "gDpHcxozMnCg"
   },
   "outputs": [],
   "source": [
    "# Данные для 1 гистограммы\n",
    "sum_buy = df[df[\"order_id\"] != 0][df[\"price\"] != 0].groupby([\"order_id\"])[\"price\"].sum()\n",
    "\n",
    "# Данные для 2 гистограммы\n",
    "product_cost = df[df[\"category_code\"] != \"\"].groupby([\"category_code\"]).sum()\n",
    "product_cost = product_cost[product_cost[\"price\"] != 0]\n",
    "product_count = df[df[\"category_code\"] != \"\"].groupby([\"category_code\"]).count()\n",
    "product_count = product_count[product_count[\"price\"] != 0]\n",
    "# Average product cost\n",
    "product_cost[\"price\"] = product_cost[\"price\"] / product_count[\"price\"]"
   ]
  },
  {
   "cell_type": "code",
   "execution_count": 10,
   "metadata": {
    "colab": {
     "base_uri": "https://localhost:8080/",
     "height": 420
    },
    "id": "lhsdbeYbOlxn",
    "outputId": "d6616987-7eec-4966-b7c2-c250fe1bc664"
   },
   "outputs": [
    {
     "data": {
      "text/plain": [
       "Text(0.5, 1.0, 'Hist of average cost products')"
      ]
     },
     "execution_count": 10,
     "metadata": {},
     "output_type": "execute_result"
    },
    {
     "data": {
      "image/png": "[encoded data removed]",
      "text/plain": [
       "<Figure size 864x432 with 2 Axes>"
      ]
     },
     "metadata": {},
     "output_type": "display_data"
    }
   ],
   "source": [
    "# Построение гистограмм\n",
    "fig, axs = plt.subplots(1, 2)\n",
    "fig.set_facecolor('floralwhite')\n",
    "fig.set_figwidth(12)\n",
    "fig.set_figheight(6)\n",
    "axs[0].hist(sum_buy[-50000:], bins=len(sum_buy[-50000:]))\n",
    "axs[0].set_title(\"Hist of prices\")\n",
    "axs[0].set_xlim([0, 1000])\n",
    "axs[0].set_ylim([0, 100])\n",
    "axs[1].hist(product_cost[\"price\"], bins=len(product_cost[\"price\"]))\n",
    "axs[1].set_title(\"Hist of average cost products\")"
   ]
  },
  {
   "cell_type": "markdown",
   "metadata": {
    "id": "Zww6VXuCMnCg"
   },
   "source": [
    "#### 2. Постройте график зависимости суммы покупок от дней."
   ]
  },
  {
   "cell_type": "code",
   "execution_count": 23,
   "metadata": {
    "colab": {
     "base_uri": "https://localhost:8080/",
     "height": 290
    },
    "id": "crv_eah7MnCh",
    "outputId": "98aeff84-6c4a-4953-d1e5-e5f17b33a2e2"
   },
   "outputs": [
    {
     "data": {
      "image/png": "[encoded data removed]",
      "text/plain": [
       "<Figure size 432x288 with 1 Axes>"
      ]
     },
     "metadata": {
      "needs_background": "light"
     },
     "output_type": "display_data"
    }
   ],
   "source": [
    "df[\"date\"] = pd.to_datetime(df[\"date\"], format=\"%Y-%m-%d\")\n",
    "days = df[df[\"price\"] != 0].groupby(df[\"date\"].dt.day).sum()\n",
    "days[\"date\"] = days.index\n",
    "fig = days.plot(x=\"date\", y=\"price\").get_figure()"
   ]
  },
  {
   "cell_type": "markdown",
   "metadata": {
    "id": "5Q4R48HLMnCh"
   },
   "source": [
    "#### 3. Постройте средних сумм покупок по дням недели (bar plot)."
   ]
  },
  {
   "cell_type": "code",
   "execution_count": 27,
   "metadata": {
    "colab": {
     "base_uri": "https://localhost:8080/",
     "height": 894
    },
    "id": "Qc5SxKqsMnCh",
    "outputId": "0777f1a4-f448-4958-9a66-f20827c69c99"
   },
   "outputs": [
    {
     "name": "stdout",
     "output_type": "stream",
     "text": [
      "Total:\n",
      " date\n",
      "Friday       45584964.30\n",
      "Monday       56509456.22\n",
      "Saturday     45157002.08\n",
      "Sunday       45163985.13\n",
      "Thursday     45053721.64\n",
      "Tuesday      56469855.89\n",
      "Wednesday    45307442.45\n",
      "Name: price, dtype: float64 \n",
      "\n",
      "Total count:\n",
      " date\n",
      "Friday       295364\n",
      "Monday       366509\n",
      "Saturday     294053\n",
      "Sunday       292503\n",
      "Thursday     292550\n",
      "Tuesday      365727\n",
      "Wednesday    294740\n",
      "Name: price, dtype: int64 \n",
      "\n",
      "Mean:\n",
      " date\n",
      "Friday       154.334869\n",
      "Monday       154.182997\n",
      "Saturday     153.567561\n",
      "Sunday       154.405203\n",
      "Thursday     154.003492\n",
      "Tuesday      154.404394\n",
      "Wednesday    153.720033\n",
      "Name: price, dtype: float64 \n",
      "\n"
     ]
    },
    {
     "data": {
      "text/plain": [
       "<matplotlib.axes._subplots.AxesSubplot at 0x7f7a12d9e250>"
      ]
     },
     "execution_count": 27,
     "metadata": {},
     "output_type": "execute_result"
    },
    {
     "data": {
      "image/png": "[encoded data removed]",
      "text/plain": [
       "<Figure size 432x288 with 1 Axes>"
      ]
     },
     "metadata": {
      "needs_background": "light"
     },
     "output_type": "display_data"
    }
   ],
   "source": [
    "wdays_sum = df[df[\"price\"] != 0].groupby(df[\"date\"].dt.day_name()).sum()\n",
    "wdays_count = df[df[\"price\"] != 0].groupby(df[\"date\"].dt.day_name()).count()[\"price\"]\n",
    "print(\"Total:\\n\", wdays_sum[\"price\"], '\\n')\n",
    "print(\"Total count:\\n\", wdays_count, '\\n')\n",
    "wdays_sum[\"price\"] = wdays_sum[\"price\"] / wdays_count\n",
    "print(\"Mean:\\n\", wdays_sum[\"price\"], '\\n')\n",
    "wdays_sum[\"days\"] = wdays_sum.index\n",
    "wdays_sum.plot(x=\"days\", y=\"price\", kind=\"bar\", rot=25)"
   ]
  },
  {
   "cell_type": "markdown",
   "metadata": {
    "id": "3cdNHvb0MnCi"
   },
   "source": [
    "#### 4. Постройте график зависимости денег за товар от купленного количества (scatter plot)."
   ]
  },
  {
   "cell_type": "code",
   "execution_count": 24,
   "metadata": {
    "colab": {
     "base_uri": "https://localhost:8080/"
    },
    "id": "1OJzGuzMMnCi",
    "outputId": "1c0f1555-c4ae-4fcf-f72d-387d88510cad"
   },
   "outputs": [
    {
     "name": "stderr",
     "output_type": "stream",
     "text": [
      "C:\\Users\\Mikhail\\AppData\\Local\\Temp\\ipykernel_7944\\3807179949.py:8: SettingWithCopyWarning: \n",
      "A value is trying to be set on a copy of a slice from a DataFrame.\n",
      "Try using .loc[row_indexer,col_indexer] = value instead\n",
      "\n",
      "See the caveats in the documentation: https://pandas.pydata.org/pandas-docs/stable/user_guide/indexing.html#returning-a-view-versus-a-copy\n",
      "  cor[\"count\"] = cor[\"category_code\"].map(get_count)\n"
     ]
    }
   ],
   "source": [
    "product_count = df[df[\"category_code\"] != \"\"].groupby([\"category_code\"]).count()\n",
    "product_count = product_count[product_count[\"price\"] != 0][\"price\"]\n",
    "\n",
    "def get_count(category):\n",
    "  return product_count.loc[category]\n",
    "\n",
    "cor = df[df[\"category_code\"] != \"\"]\n",
    "cor[\"count\"] = cor[\"category_code\"].map(get_count)"
   ]
  },
  {
   "cell_type": "code",
   "execution_count": 25,
   "metadata": {
    "colab": {
     "base_uri": "https://localhost:8080/",
     "height": 296
    },
    "id": "ERlO3WIvroW0",
    "outputId": "5b3a0247-053c-46c7-ca7a-c00e93977184"
   },
   "outputs": [
    {
     "name": "stderr",
     "output_type": "stream",
     "text": [
      "C:\\Users\\Mikhail\\AppData\\Local\\Programs\\Python\\Python310\\lib\\site-packages\\pandas\\plotting\\_matplotlib\\core.py:1114: UserWarning: No data for colormapping provided via 'c'. Parameters 'cmap' will be ignored\n",
      "  scatter = ax.scatter(\n"
     ]
    },
    {
     "data": {
      "text/plain": [
       "<AxesSubplot: xlabel='price', ylabel='count'>"
      ]
     },
     "execution_count": 25,
     "metadata": {},
     "output_type": "execute_result"
    },
    {
     "data": {
      "image/png": "[encoded data removed]",
      "text/plain": [
       "<Figure size 432x288 with 1 Axes>"
      ]
     },
     "metadata": {
      "needs_background": "light"
     },
     "output_type": "display_data"
    }
   ],
   "source": [
    "cor.plot(x=\"price\", y=\"count\", kind=\"scatter\")"
   ]
  },
  {
   "cell_type": "code",
   "execution_count": 26,
   "metadata": {
    "colab": {
     "base_uri": "https://localhost:8080/",
     "height": 332
    },
    "id": "Dpwb-gQJr73h",
    "outputId": "1299f421-05b3-4dc3-cf2c-e5fddc28e797"
   },
   "outputs": [
    {
     "name": "stderr",
     "output_type": "stream",
     "text": [
      "C:\\Users\\Mikhail\\AppData\\Local\\Temp\\ipykernel_7944\\1998580825.py:1: UserWarning: Boolean Series key will be reindexed to match DataFrame index.\n",
      "  cor2 = cor[cor[\"price\"] < 20000][cor[\"count\"] < 100000]\n"
     ]
    },
    {
     "data": {
      "text/plain": [
       "<AxesSubplot: xlabel='price', ylabel='count'>"
      ]
     },
     "execution_count": 26,
     "metadata": {},
     "output_type": "execute_result"
    },
    {
     "data": {
      "image/png": "[encoded data removed]",
      "text/plain": [
       "<Figure size 432x288 with 1 Axes>"
      ]
     },
     "metadata": {
      "needs_background": "light"
     },
     "output_type": "display_data"
    }
   ],
   "source": [
    "cor2 = cor[cor[\"price\"] < 20000][cor[\"count\"] < 100000]\n",
    "cor2.plot(x=\"price\", y=\"count\", kind=\"scatter\")"
   ]
  },
  {
   "cell_type": "markdown",
   "metadata": {
    "id": "l05HVAWUMnCi"
   },
   "source": [
    "Сохраните график в формате pdf (так он останется векторизованным)."
   ]
  },
  {
   "cell_type": "code",
   "execution_count": 28,
   "metadata": {
    "colab": {
     "base_uri": "https://localhost:8080/",
     "height": 17
    },
    "id": "p2qesQrfMnCj",
    "outputId": "8e1b967c-41f3-42f0-b734-e6622c32b5d8"
   },
   "outputs": [],
   "source": [
    "fig.savefig(\"lab1_output2.pdf\")"
   ]
  }
 ],
 "metadata": {
  "colab": {
   "collapsed_sections": [],
   "name": "DM_and_DB_lab1.ipynb",
   "provenance": []
  },
  "kernel_info": {
   "name": "py36"
  },
  "kernelspec": {
   "display_name": "Python 3 (ipykernel)",
   "language": "python",
   "name": "python3"
  },
  "language_info": {
   "codemirror_mode": {
    "name": "ipython",
    "version": 3
   },
   "file_extension": ".py",
   "mimetype": "text/x-python",
   "name": "python",
   "nbconvert_exporter": "python",
   "pygments_lexer": "ipython3",
   "version": "3.10.7"
  },
  "nteract": {
   "version": "0.11.6"
  }
 },
 "nbformat": 4,
 "nbformat_minor": 1
}
